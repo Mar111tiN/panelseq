{
 "cells": [
  {
   "cell_type": "markdown",
   "id": "59df5714",
   "metadata": {},
   "source": [
    "# make SampleSheet for the MiniSeq from data in the \"OverviewSamplesSequencing.xlsx\" file\n",
    "+ for running this tool, you need to set a config file using a text editor of your choice prior to running the cells of this notebook\n",
    "+ use "
   ]
  },
  {
   "cell_type": "code",
   "execution_count": null,
   "id": "9709a4bb",
   "metadata": {
    "ExecuteTime": {
     "end_time": "2022-12-13T07:08:19.543154Z",
     "start_time": "2022-12-13T07:08:19.526952Z"
    }
   },
   "outputs": [],
   "source": [
    "# main imports\n",
    "import os\n",
    "import pandas as pd\n",
    "\n",
    "# some sensible settings for better output\n",
    "from IPython.display import display\n",
    "pd.set_option('display.max_columns', None)\n",
    "pd.set_option('display.max_rows', 200)\n",
    "from IPython.core.interactiveshell import InteractiveShell\n",
    "InteractiveShell.ast_node_interactivity = \"all\"\n",
    "pd.set_option('max_colwidth', 200)\n",
    "pd.options.mode.chained_assignment = None\n",
    "\n",
    "# get the code\n",
    "import sys\n",
    "\n",
    "### set your PATH environments for more flexibility, allows using home (see README.md for download link)\n",
    "home = os.environ['HOME']\n",
    "work = os.environ['WORK']\n",
    "\n",
    "# you need to have the github repo sceleton downloaded as well\n",
    "# below give the path to the sceleton repo for loading the necessary code\n",
    "code_path = os.path.join(home, \"Sites/sceleton\")\n",
    "sys.path.append(os.path.join(code_path, \"code/py\"))\n",
    "from script_utils import load_config, show_output, get_path\n",
    "\n"
   ]
  },
  {
   "cell_type": "markdown",
   "id": "cf40e337",
   "metadata": {},
   "source": [
    "+ load the config file that you adjusted\n",
    "+ for real world use cases you have a config file prepared for each sample sheet"
   ]
  },
  {
   "cell_type": "markdown",
   "id": "381494d5",
   "metadata": {},
   "source": [
    "### MiniSeq sample_sheet is easily generated from the `OverviewSamplesSequencing.xls` and a config file specifying additional info for the data sheet\n",
    "+ there are two modi:\n",
    "    * #### `usePoolingList = False`\n",
    "        + only samples with unsequenced status will be included in the sample shee+ only samples with unsequenced status will be included in the sample sheet\n",
    "        + only Agilent sample sheet will be generated from Samples and Libraries sheets\n",
    "        + could be stored elsewhere - you just have to load it here\n",
    "        + the config dict has to be passed as second arg to the make_MiniSeq_sampleSheet function"
   ]
  },
  {
   "cell_type": "code",
   "execution_count": null,
   "id": "864ca30f",
   "metadata": {
    "ExecuteTime": {
     "end_time": "2022-12-13T07:09:19.189735Z",
     "start_time": "2022-12-13T07:09:19.180033Z"
    }
   },
   "outputs": [],
   "source": [
    "config_path = \"../config\"\n",
    "config = load_config(os.path.join(config_path, \"test_config.yml\"))"
   ]
  },
  {
   "cell_type": "code",
   "execution_count": null,
   "id": "7c061e4a",
   "metadata": {
    "ExecuteTime": {
     "end_time": "2022-12-13T07:08:21.041023Z",
     "start_time": "2022-12-13T07:08:20.947189Z"
    }
   },
   "outputs": [],
   "source": [
    "from panel import make_MiniSeq_sampleSheet\n",
    "library_df = make_MiniSeq_sampleSheet(\"test_sample_sheet1\", config, usePoolingList=False)\n",
    "library_df"
   ]
  },
  {
   "cell_type": "markdown",
   "id": "cfe682be",
   "metadata": {},
   "source": [
    "+ option 2:\n",
    "    * #### `usePoolingList = True`\n",
    "        + takes manual list from the LibraryPooling sheet and created i7 and i5 barcodes\n",
    "+ all the necessary info (path to `OverviewSamplesSequencing.xls` and sequencing Meta data should be stored in the config file that you load via load_config from a yaml file"
   ]
  },
  {
   "cell_type": "code",
   "execution_count": null,
   "id": "507a6608",
   "metadata": {
    "ExecuteTime": {
     "end_time": "2022-12-13T07:04:10.739278Z",
     "start_time": "2022-12-13T07:04:10.669284Z"
    }
   },
   "outputs": [],
   "source": [
    "from panel import make_MiniSeq_sampleSheet\n",
    "library_df = make_MiniSeq_sampleSheet(\"test_sample_sheet1\", config, usePoolingList=True)\n",
    "library_df"
   ]
  },
  {
   "cell_type": "code",
   "execution_count": null,
   "id": "347a2f99",
   "metadata": {},
   "outputs": [],
   "source": []
  }
 ],
 "metadata": {
  "kernelspec": {
   "display_name": "Python 3 (ipykernel)",
   "language": "python",
   "name": "python3"
  },
  "language_info": {
   "codemirror_mode": {
    "name": "ipython",
    "version": 3
   },
   "file_extension": ".py",
   "mimetype": "text/x-python",
   "name": "python",
   "nbconvert_exporter": "python",
   "pygments_lexer": "ipython3",
   "version": "3.10.8"
  },
  "latex_envs": {
   "LaTeX_envs_menu_present": true,
   "autoclose": false,
   "autocomplete": true,
   "bibliofile": "biblio.bib",
   "cite_by": "apalike",
   "current_citInitial": 1,
   "eqLabelWithNumbers": true,
   "eqNumInitial": 1,
   "hotkeys": {
    "equation": "Ctrl-E",
    "itemize": "Ctrl-I"
   },
   "labels_anchors": false,
   "latex_user_defs": false,
   "report_style_numbering": false,
   "user_envs_cfg": false
  },
  "varInspector": {
   "cols": {
    "lenName": 16,
    "lenType": 16,
    "lenVar": 40
   },
   "kernels_config": {
    "python": {
     "delete_cmd_postfix": "",
     "delete_cmd_prefix": "del ",
     "library": "var_list.py",
     "varRefreshCmd": "print(var_dic_list())"
    },
    "r": {
     "delete_cmd_postfix": ") ",
     "delete_cmd_prefix": "rm(",
     "library": "var_list.r",
     "varRefreshCmd": "cat(var_dic_list()) "
    }
   },
   "types_to_exclude": [
    "module",
    "function",
    "builtin_function_or_method",
    "instance",
    "_Feature"
   ],
   "window_display": false
  },
  "vscode": {
   "interpreter": {
    "hash": "faebb3a5376b483023f2a9308a230ebddf6a237099b16acd8a85cb02c5809c85"
   }
  }
 },
 "nbformat": 4,
 "nbformat_minor": 5
}
