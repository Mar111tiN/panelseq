{
 "cells": [
  {
   "cell_type": "markdown",
   "id": "59df5714",
   "metadata": {},
   "source": [
    "# make SampleSheet for the MiniSeq from data in the \"OverviewSamplesSequencing.xlsx\" file\n",
    "+ for running this tool, you need to set a config file using a text editor of your choice prior to running the cells of this notebook\n",
    "+ run this notebook for testing and then use your own sequencing excel and set the paths accordingly"
   ]
  },
  {
   "cell_type": "code",
   "execution_count": null,
   "id": "9709a4bb",
   "metadata": {
    "ExecuteTime": {
     "end_time": "2022-07-18T09:22:30.205973Z",
     "start_time": "2022-07-18T09:22:30.181528Z"
    }
   },
   "outputs": [],
   "source": [
    "# main imports\n",
    "import os\n",
    "import pandas as pd\n",
    "\n",
    "# some sensible settings for better output\n",
    "from IPython.display import display\n",
    "pd.set_option('display.max_columns', None)\n",
    "pd.set_option('display.max_rows', 200)\n",
    "from IPython.core.interactiveshell import InteractiveShell\n",
    "InteractiveShell.ast_node_interactivity = \"all\"\n",
    "pd.set_option('max_colwidth', 200)\n",
    "pd.options.mode.chained_assignment = None\n",
    "\n",
    "# get the code\n",
    "import sys\n",
    "\n",
    "### set your PATH environments for more flexibility\n",
    "home = os.environ['HOME']\n",
    "work = os.environ['WORK']\n",
    "\n",
    "# point to code repo containing the script_utils for receiving latest version (sceleton has it)\n",
    "# for testing, point to own code_path\n",
    "code_path = os.path.join(\"../..\")\n",
    "sys.path.append(os.path.join(code_path, \"code/py\"))\n",
    "from script_utils import load_config, show_output\n",
    "config_path = \"../config\"\n",
    "config = load_config(os.path.join(config_path, \"test_config.yml\"))"
   ]
  },
  {
   "cell_type": "markdown",
   "id": "381494d5",
   "metadata": {},
   "source": [
    "### load the seqsample file"
   ]
  },
  {
   "cell_type": "code",
   "execution_count": null,
   "id": "a4eeecf9",
   "metadata": {},
   "outputs": [],
   "source": [
    "from panel import make_MiniSeq_sampleSheet\n",
    "status, libs = make_MiniSeq_sampleSheet(\"test-sample_sheet\", config)\n",
    "libs"
   ]
  }
 ],
 "metadata": {
  "kernelspec": {
   "display_name": "Python 3 (ipykernel)",
   "language": "python",
   "name": "python3"
  },
  "language_info": {
   "codemirror_mode": {
    "name": "ipython",
    "version": 3
   },
   "file_extension": ".py",
   "mimetype": "text/x-python",
   "name": "python",
   "nbconvert_exporter": "python",
   "pygments_lexer": "ipython3",
   "version": "3.9.13"
  },
  "latex_envs": {
   "LaTeX_envs_menu_present": true,
   "autoclose": false,
   "autocomplete": true,
   "bibliofile": "biblio.bib",
   "cite_by": "apalike",
   "current_citInitial": 1,
   "eqLabelWithNumbers": true,
   "eqNumInitial": 1,
   "hotkeys": {
    "equation": "Ctrl-E",
    "itemize": "Ctrl-I"
   },
   "labels_anchors": false,
   "latex_user_defs": false,
   "report_style_numbering": false,
   "user_envs_cfg": false
  },
  "varInspector": {
   "cols": {
    "lenName": 16,
    "lenType": 16,
    "lenVar": 40
   },
   "kernels_config": {
    "python": {
     "delete_cmd_postfix": "",
     "delete_cmd_prefix": "del ",
     "library": "var_list.py",
     "varRefreshCmd": "print(var_dic_list())"
    },
    "r": {
     "delete_cmd_postfix": ") ",
     "delete_cmd_prefix": "rm(",
     "library": "var_list.r",
     "varRefreshCmd": "cat(var_dic_list()) "
    }
   },
   "types_to_exclude": [
    "module",
    "function",
    "builtin_function_or_method",
    "instance",
    "_Feature"
   ],
   "window_display": false
  },
  "vscode": {
   "interpreter": {
    "hash": "72c4deda61de9bd7ee13145e0762f217c02929a810608afbafc9f574324658e2"
   }
  }
 },
 "nbformat": 4,
 "nbformat_minor": 5
}
